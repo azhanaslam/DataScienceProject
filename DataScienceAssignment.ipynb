{
 "cells": [
  {
   "cell_type": "markdown",
   "id": "06302b2e-8a66-490b-81db-1f1adbd5dd8a",
   "metadata": {},
   "source": [
    "# Data Science Assignment"
   ]
  },
  {
   "cell_type": "markdown",
   "id": "53a28e3f-57fa-4e4e-921e-f6d7cf2e347b",
   "metadata": {},
   "source": [
    "## It is the final assignment of the data science course and will be graded by the peers."
   ]
  },
  {
   "cell_type": "markdown",
   "id": "411f39a5-e1ef-4a67-ac9b-8b75ff1b8714",
   "metadata": {},
   "source": [
    "### Data Science Languages\n",
    "\n",
    "- **Python**: Widely used for data manipulation, analysis, and machine learning through libraries like Pandas, NumPy, SciPy, and scikit-learn.\n",
    "- **R**: Primarily used for statistical analysis, visualization, and machine learning with packages like ggplot2, dplyr, and caret.\n",
    "- **SQL**: Essential for managing and querying relational databases to extract and manipulate data.\n",
    "- **Julia**: Known for its speed and performance in scientific computing and data analysis.\n",
    "- **Scala**: Used with Apache Spark for distributed computing and processing large-scale datasets.\n",
    "- **MATLAB**: Popular in academia and industry for numerical computing, data analysis, and visualization.\n",
    "- **JavaScript (with libraries like D3.js)**: Used for interactive data visualization in web applications.\n",
    "- **SAS**: Historically used in statistical analysis and data management in industries like healthcare and finance.\n",
    "- **Java**: Employed in big data processing frameworks like Hadoop and for developing enterprise-level applications in data science.\n"
   ]
  },
  {
   "cell_type": "markdown",
   "id": "5ac66775-4d31-4363-b12b-9e7f1d036478",
   "metadata": {},
   "source": [
    "### Data Science Libraries\n",
    "\n",
    "#### Python\n",
    "- **Pandas**: For data manipulation and analysis, offering data structures and operations.\n",
    "- **NumPy**: Fundamental package for scientific computing, providing support for arrays and matrices.\n",
    "- **SciPy**: Complementary to NumPy, offering additional scientific computing tools.\n",
    "- **scikit-learn**: Machine learning library providing simple and efficient tools for data mining and analysis.\n",
    "- **TensorFlow / Keras**: For building and training machine learning models, especially neural networks.\n",
    "- **PyTorch**: Deep learning library known for its flexibility and ease of use.\n",
    "- **Matplotlib**: Comprehensive library for creating static, interactive, and animated visualizations in Python.\n",
    "- **Seaborn**: Data visualization library based on Matplotlib, offering a high-level interface for statistical graphics.\n",
    "\n",
    "#### R\n",
    "- **ggplot2**: R's famous data visualization package known for its grammar of graphics.\n",
    "- **dplyr**: For data manipulation tasks with a focus on clarity and ease of understanding.\n",
    "- **caret**: Unified interface to multiple machine learning algorithms in R.\n",
    "\n",
    "#### Others\n",
    "- **SQLAlchemy**: SQL toolkit and Object-Relational Mapping (ORM) for Python, enabling interaction with SQL databases.\n",
    "- **Apache Spark**: Provides APIs for data manipulation, querying, and analysis at scale.\n",
    "- **Hadoop**: Framework for distributed storage and processing of large datasets."
   ]
  },
  {
   "cell_type": "markdown",
   "id": "bcb62c52-4b92-4f91-b382-ccbc87d85e91",
   "metadata": {},
   "source": [
    "### Data Science Tools\n",
    "\n",
    "| Tool             | Description                                                                               | Language    |\n",
    "|------------------|-------------------------------------------------------------------------------------------|-------------|\n",
    "| **Jupyter Notebook** | Interactive development environment allowing creation and sharing of documents combining live code, equations, visualizations, and narrative text. | Python, R, Julia, others |\n",
    "| **RStudio**          | Integrated development environment (IDE) specifically designed for R programming.         | R           |\n",
    "| **Spyder**           | Python IDE designed for scientific computing, data analysis, and visualization.           | Python      |\n",
    "| **Visual Studio Code** | Highly customizable code editor with extensions supporting various data science tasks.   | Multiple    |\n",
    "| **Tableau**          | Data visualization tool allowing the creation of interactive and shareable dashboards.    | -           |\n",
    "| **Power BI**         | Business analytics tool for creating interactive visualizations and business intelligence. | -         |\n",
    "| **KNIME**            | Open-source data analytics, reporting, and integration platform.                           | Java        |\n",
    "| **RapidMiner**       | ETL (Extract, Transform, Load) and data mining software.                                   | Java        |\n",
    "| **SAS**              | Suite of analytics solutions used for statistical analysis and predictive modeling.        | -           |\n",
    "| **Apache Hadoop**    | Framework for distributed storage and processing of large datasets.                         | Java        |\n",
    "| **Apache Spark**     | Fast cluster computing system for big data processing.                                      | Scala, Java |\n",
    "| **Databricks**       | Unified analytics platform for big data and machine learning.                               | Scala, Python, R |\n",
    "| **Alteryx**          | Data blending and advanced analytics platform.                                              | -           |\n",
    "| **IBM Watson Studio** | Integrated environment to prepare, analyze, visualize, and model data.                      | Python, R, Scala |\n",
    "| **Google Colab**     | Cloud-based Jupyter notebook environment provided by Google.                                | Python      |\n",
    "| **Azure Machine Learning** | Cloud-based machine learning service by Microsoft.                                        | Python, R   |\n",
    "| **AWS SageMaker**    | Managed service by Amazon for building, training, and deploying machine learning models.    | Python      |\n"
   ]
  },
  {
   "cell_type": "markdown",
   "id": "a5ad79fe-574b-451e-97a4-80c6436da322",
   "metadata": {},
   "source": [
    "### Arithmetic Expression Examples\n",
    "\n",
    "Arithmetic expressions involve mathematical operations such as addition, subtraction, multiplication, division, and more. They are fundamental to mathematical computations and are extensively used in programming and data science.\n",
    "\n",
    "#### Basic Arithmetic Operators\n",
    "\n",
    "- **Addition (+)**: Combining two or more numbers. For instance, `3 + 5 = 8`.\n",
    "- **Subtraction (-)**: Finding the difference between two numbers. For example, `10 - 4 = 6`.\n",
    "- **Multiplication (*)**: Performing repeated addition of a number. For instance, `4 * 3 = 12`.\n",
    "- **Division (/)**: Splitting a number into equal parts. For example, `20 / 5 = 4`.\n",
    "\n",
    "#### Additional Operators\n",
    "\n",
    "- **Exponentiation (`**` or `^` in some languages)**: Raising a number to the power of another. For instance, `2 ** 3 = 8` (2 raised to the power of 3).\n",
    "- **Modulo (%)**: Finding the remainder of a division operation. For example, `17 % 5 = 2` (17 divided by 5 leaves a remainder of 2).\n",
    "\n",
    "#### Order of Operations (PEMDAS/BODMAS)\n",
    "\n",
    "Arithmetic expressions follow an order of operations:\n",
    "1. **Parentheses (Brackets)**: Perform operations within parentheses first.\n",
    "2. **Exponents (Indices)**: Evaluate exponentiation.\n",
    "3. **Multiplication and Division (from left to right)**: Perform these operations next.\n",
    "4. **Addition and Subtraction (from left to right)**: Lastly, compute addition and subtraction operations."
   ]
  },
  {
   "cell_type": "code",
   "execution_count": 1,
   "id": "2d34250c-1b79-454a-9f01-94aebbf4ddce",
   "metadata": {
    "tags": []
   },
   "outputs": [
    {
     "name": "stdout",
     "output_type": "stream",
     "text": [
      "Multiplication result: 150\n",
      "Addition result: 18\n"
     ]
    }
   ],
   "source": [
    "# Define numbers\n",
    "num1 = 10\n",
    "num2 = 5\n",
    "num3 = 3\n",
    "\n",
    "# Perform multiplication and addition\n",
    "result_multiplication = num1 * num2 * num3  # Multiply three numbers\n",
    "result_addition = num1 + num2 + num3       # Add three numbers\n",
    "\n",
    "# Display results\n",
    "print(f\"Multiplication result: {result_multiplication}\")\n",
    "print(f\"Addition result: {result_addition}\")\n"
   ]
  },
  {
   "cell_type": "code",
   "execution_count": 2,
   "id": "e472907b-d02c-4c0b-8d45-89142d7f1687",
   "metadata": {
    "tags": []
   },
   "outputs": [
    {
     "name": "stdout",
     "output_type": "stream",
     "text": [
      "150 minutes is equal to 2.5 hours\n"
     ]
    }
   ],
   "source": [
    "# Define minutes\n",
    "minutes = 150\n",
    "\n",
    "# Convert minutes to hours\n",
    "hours = minutes / 60\n",
    "\n",
    "# Display the result\n",
    "print(f\"{minutes} minutes is equal to {hours} hours\")\n"
   ]
  },
  {
   "cell_type": "markdown",
   "id": "2bca9e44-4b8c-446d-b155-a6d257f598bc",
   "metadata": {},
   "source": [
    "### Objectives of Data Science\n",
    "\n",
    "1. **Extract Insights**: Analyze and extract meaningful insights and patterns from large and complex datasets to aid in decision-making processes.\n",
    "\n",
    "2. **Predictive Analysis**: Develop models and algorithms to predict future trends, behaviors, or outcomes based on historical data, enabling proactive actions.\n",
    "\n",
    "3. **Data-driven Decision Making**: Empower organizations to make informed decisions supported by data, reducing uncertainty and improving efficiency.\n",
    "\n",
    "4. **Optimization**: Optimize processes, systems, and strategies by leveraging data analysis to enhance performance and achieve better outcomes.\n",
    "\n",
    "5. **Identify Patterns and Trends**: Discover hidden patterns, correlations, and trends within data that might not be evident at first glance.\n",
    "\n",
    "6. **Machine Learning Implementation**: Utilize machine learning algorithms to automate tasks, classify data, and generate predictive models."
   ]
  },
  {
   "cell_type": "markdown",
   "id": "a61c05eb-7d8d-48b1-9975-76c5e548a7d3",
   "metadata": {},
   "source": [
    "## Author: Azhan Aslam\n"
   ]
  },
  {
   "cell_type": "code",
   "execution_count": null,
   "id": "29846663-bbd2-4b89-815b-00a3a9b18ebd",
   "metadata": {},
   "outputs": [],
   "source": []
  }
 ],
 "metadata": {
  "kernelspec": {
   "display_name": "Python",
   "language": "python",
   "name": "conda-env-python-py"
  },
  "language_info": {
   "codemirror_mode": {
    "name": "ipython",
    "version": 3
   },
   "file_extension": ".py",
   "mimetype": "text/x-python",
   "name": "python",
   "nbconvert_exporter": "python",
   "pygments_lexer": "ipython3",
   "version": "3.7.12"
  }
 },
 "nbformat": 4,
 "nbformat_minor": 5
}
